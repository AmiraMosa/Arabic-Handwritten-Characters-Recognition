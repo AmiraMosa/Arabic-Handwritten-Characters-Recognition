{
  "metadata": {
    "kernelspec": {
      "language": "python",
      "display_name": "Python 3",
      "name": "python3"
    },
    "language_info": {
      "name": "python",
      "version": "3.7.12",
      "mimetype": "text/x-python",
      "codemirror_mode": {
        "name": "ipython",
        "version": 3
      },
      "pygments_lexer": "ipython3",
      "nbconvert_exporter": "python",
      "file_extension": ".py"
    },
    "colab": {
      "name": "Arabic handwriting character recognition.ipynb",
      "provenance": []
    }
  },
  "nbformat_minor": 0,
  "nbformat": 4,
  "cells": [
    {
      "cell_type": "code",
      "source": [
        "import pandas as pd\n",
        "import numpy as np \n",
        "import matplotlib.pyplot as plt\n",
        "import seaborn as sns\n",
        "import cv2\n",
        "import glob\n",
        "\n",
        "from keras.utils.np_utils import to_categorical\n",
        "import keras\n",
        "from keras.models import Model\n",
        "from keras.layers import Dense, Conv2D, MaxPooling2D, Flatten, Dropout, Input\n",
        "#from keras.layers.normalization import BatchNormalization\n",
        "from keras.callbacks import ModelCheckpoint\n",
        "from tensorflow.keras.layers import BatchNormalization\n",
        "from sklearn.model_selection import train_test_split\n",
        "from sklearn.metrics import confusion_matrix\n",
        "from keras.preprocessing.image import ImageDataGenerator\n",
        "from sklearn.model_selection import train_test_split\n",
        "from sklearn.metrics import classification_report, log_loss, accuracy_score"
      ],
      "metadata": {
        "execution": {
          "iopub.status.busy": "2022-03-19T13:42:43.789381Z",
          "iopub.execute_input": "2022-03-19T13:42:43.789648Z",
          "iopub.status.idle": "2022-03-19T13:42:43.807565Z",
          "shell.execute_reply.started": "2022-03-19T13:42:43.789610Z",
          "shell.execute_reply": "2022-03-19T13:42:43.806555Z"
        },
        "trusted": true,
        "id": "Vwg26FJOjMhG"
      },
      "execution_count": 42,
      "outputs": []
    },
    {
      "cell_type": "code",
      "source": [
        "x_train = pd.read_csv('csvTrainImages 13440x1024.csv').to_numpy()\n",
        "y_train = pd.read_csv('csvTrainLabel 13440x1.csv').to_numpy()-1\n",
        "x_test = pd.read_csv('csvTestImages 3360x1024.csv').to_numpy()\n",
        "y_test = pd.read_csv('csvTestLabel 3360x1.csv').to_numpy()-1"
      ],
      "metadata": {
        "execution": {
          "iopub.status.busy": "2022-03-19T13:42:43.809388Z",
          "iopub.execute_input": "2022-03-19T13:42:43.809641Z",
          "iopub.status.idle": "2022-03-19T13:42:45.836194Z",
          "shell.execute_reply.started": "2022-03-19T13:42:43.809612Z",
          "shell.execute_reply": "2022-03-19T13:42:45.835158Z"
        },
        "trusted": true,
        "id": "HTtVPPKfjMhG"
      },
      "execution_count": 60,
      "outputs": []
    },
    {
      "cell_type": "code",
      "source": [
        "print(x_train.shape)\n",
        "print(y_train.shape)\n",
        "print(x_test.shape)\n",
        "print(y_test.shape)"
      ],
      "metadata": {
        "execution": {
          "iopub.status.busy": "2022-03-19T13:42:45.837603Z",
          "iopub.execute_input": "2022-03-19T13:42:45.837934Z",
          "iopub.status.idle": "2022-03-19T13:42:45.844181Z",
          "shell.execute_reply.started": "2022-03-19T13:42:45.837881Z",
          "shell.execute_reply": "2022-03-19T13:42:45.843303Z"
        },
        "trusted": true,
        "colab": {
          "base_uri": "https://localhost:8080/"
        },
        "id": "ZN9uiX_AjMhH",
        "outputId": "ba4666a8-5bd1-4a8b-9bca-48c4737724a4"
      },
      "execution_count": 61,
      "outputs": [
        {
          "output_type": "stream",
          "name": "stdout",
          "text": [
            "(13439, 1024)\n",
            "(13439, 1)\n",
            "(3359, 1024)\n",
            "(3359, 1)\n"
          ]
        }
      ]
    },
    {
      "cell_type": "code",
      "source": [
        "x_train = x_train.reshape(-1,32,32,1)\n",
        "x_test = x_test.reshape(-1,32,32,1)\n",
        "\n",
        "x_train = x_train / 255\n",
        "x_test = x_test / 255\n",
        "\n",
        "print(x_train.shape, x_test.shape)\n",
        "\n",
        "\n",
        "# array = np.random.choice(50,25)\n",
        "\n",
        "# plt.figure(figsize=(10,10))\n",
        "\n",
        "# for i in range(25):\n",
        "#     plt.subplot(5,5,i+1)\n",
        "#     plt.xticks([])\n",
        "#     plt.yticks([])\n",
        "#     plt.imshow(x_train[array[i]],cmap = 'gray')\n",
        "# #     j+=1\n",
        "# plt.show()\n",
        "    "
      ],
      "metadata": {
        "execution": {
          "iopub.status.busy": "2022-03-19T13:42:45.935611Z",
          "iopub.execute_input": "2022-03-19T13:42:45.936287Z",
          "iopub.status.idle": "2022-03-19T13:42:47.160981Z",
          "shell.execute_reply.started": "2022-03-19T13:42:45.936251Z",
          "shell.execute_reply": "2022-03-19T13:42:47.160420Z"
        },
        "trusted": true,
        "colab": {
          "base_uri": "https://localhost:8080/"
        },
        "id": "VliJ06AajMhL",
        "outputId": "05712e3c-4790-4c9c-e50a-4f5c9d214a7d"
      },
      "execution_count": 62,
      "outputs": [
        {
          "output_type": "stream",
          "name": "stdout",
          "text": [
            "(13439, 32, 32, 1) (3359, 32, 32, 1)\n"
          ]
        }
      ]
    },
    {
      "cell_type": "code",
      "source": [
        "y_train = to_categorical(y_train)\n",
        "y_test = to_categorical(y_test)"
      ],
      "metadata": {
        "execution": {
          "iopub.status.busy": "2022-03-19T13:42:47.161927Z",
          "iopub.execute_input": "2022-03-19T13:42:47.162290Z",
          "iopub.status.idle": "2022-03-19T13:42:47.167129Z",
          "shell.execute_reply.started": "2022-03-19T13:42:47.162245Z",
          "shell.execute_reply": "2022-03-19T13:42:47.166395Z"
        },
        "trusted": true,
        "id": "HxHkCSHwjMhL"
      },
      "execution_count": 63,
      "outputs": []
    },
    {
      "cell_type": "code",
      "source": [
        "x_train, x_val, y_train, y_val = train_test_split(x_train, y_train, test_size = 0.2, stratify = y_train)\n"
      ],
      "metadata": {
        "execution": {
          "iopub.status.busy": "2022-03-19T13:42:47.168244Z",
          "iopub.execute_input": "2022-03-19T13:42:47.168502Z",
          "iopub.status.idle": "2022-03-19T13:42:47.789784Z",
          "shell.execute_reply.started": "2022-03-19T13:42:47.168449Z",
          "shell.execute_reply": "2022-03-19T13:42:47.789009Z"
        },
        "trusted": true,
        "id": "jrIPQn2SjMhL"
      },
      "execution_count": 64,
      "outputs": []
    },
    {
      "cell_type": "code",
      "source": [
        "print(x_train.shape)\n",
        "print(y_train.shape)\n",
        "print(x_val.shape)\n",
        "print(y_val.shape)"
      ],
      "metadata": {
        "execution": {
          "iopub.status.busy": "2022-03-19T13:42:47.790961Z",
          "iopub.execute_input": "2022-03-19T13:42:47.791181Z",
          "iopub.status.idle": "2022-03-19T13:42:47.798437Z",
          "shell.execute_reply.started": "2022-03-19T13:42:47.791155Z",
          "shell.execute_reply": "2022-03-19T13:42:47.797622Z"
        },
        "trusted": true,
        "colab": {
          "base_uri": "https://localhost:8080/"
        },
        "id": "riCLN4lkjMhM",
        "outputId": "6e13e1ba-3609-4d2e-ad20-4684d0d155dc"
      },
      "execution_count": 65,
      "outputs": [
        {
          "output_type": "stream",
          "name": "stdout",
          "text": [
            "(10751, 32, 32, 1)\n",
            "(10751, 28)\n",
            "(2688, 32, 32, 1)\n",
            "(2688, 28)\n"
          ]
        }
      ]
    },
    {
      "cell_type": "code",
      "source": [
        "def get_model():\n",
        "    In = Input(shape=(32,32,1))\n",
        "    x = Conv2D(32, (5,5), padding=\"same\", activation=\"relu\")(In)\n",
        "    x = Conv2D(32, (5,5), activation=\"relu\")(x)\n",
        "    x = Conv2D(32, (5,5), activation=\"relu\")(x)\n",
        "    x = MaxPooling2D((2,2))(x)\n",
        "    x = BatchNormalization()(x)\n",
        "    \n",
        "    x = Conv2D(64, (5,5), padding=\"same\", activation=\"relu\")(x)\n",
        "    x = Conv2D(64, (5,5), activation=\"relu\")(x)\n",
        "    x = Conv2D(64, (5,5), activation=\"relu\")(x)\n",
        "    x = MaxPooling2D((2,2))(x)\n",
        "    x = BatchNormalization()(x)\n",
        "    \n",
        "    x = Flatten()(x)\n",
        "    x = Dense(128, activation=\"relu\")(x)\n",
        "    x = Dense(128, activation=\"relu\")(x)\n",
        "    x = Dropout(0.4)(x)\n",
        "    \n",
        "    Out = Dense(28, activation=\"softmax\")(x)\n",
        "    \n",
        "    model = Model(In, Out)\n",
        "    model.compile(loss=\"categorical_crossentropy\", optimizer=\"adam\", metrics=[\"accuracy\"])\n",
        "    return model\n",
        "\n",
        "model = get_model()\n",
        "#keras.utils.vis_utils.plot_model(model, show_shapes=True, show_layer_names=True)"
      ],
      "metadata": {
        "execution": {
          "iopub.status.busy": "2022-03-19T13:42:47.799621Z",
          "iopub.execute_input": "2022-03-19T13:42:47.800411Z",
          "iopub.status.idle": "2022-03-19T13:42:48.014989Z",
          "shell.execute_reply.started": "2022-03-19T13:42:47.800369Z",
          "shell.execute_reply": "2022-03-19T13:42:48.014195Z"
        },
        "trusted": true,
        "id": "6DypOAhPjMhM"
      },
      "execution_count": 66,
      "outputs": []
    },
    {
      "cell_type": "code",
      "source": [
        "datagen = ImageDataGenerator(\n",
        "        featurewise_center=False,  # set input mean to 0 over the dataset\n",
        "        samplewise_center=False,  # set each sample mean to 0\n",
        "        featurewise_std_normalization=False,  # divide inputs by std of the dataset\n",
        "        samplewise_std_normalization=False,  # divide each input by its std\n",
        "        zca_whitening=False,  # apply ZCA whitening\n",
        "        rotation_range=10,  # randomly rotate images in the range (degrees, 0 to 180)\n",
        "        zoom_range = 0.1, # Randomly zoom image \n",
        "        width_shift_range=0.1,  # randomly shift images horizontally (fraction of total width)\n",
        "        height_shift_range=0.1,  # randomly shift images vertically (fraction of total height)\n",
        "        horizontal_flip=False,  # randomly flip images\n",
        "        vertical_flip=False)  # "
      ],
      "metadata": {
        "execution": {
          "iopub.status.busy": "2022-03-19T13:42:48.016104Z",
          "iopub.execute_input": "2022-03-19T13:42:48.016322Z",
          "iopub.status.idle": "2022-03-19T13:42:48.022976Z",
          "shell.execute_reply.started": "2022-03-19T13:42:48.016293Z",
          "shell.execute_reply": "2022-03-19T13:42:48.022075Z"
        },
        "trusted": true,
        "id": "UdHtBTQujMhN"
      },
      "execution_count": 67,
      "outputs": []
    },
    {
      "cell_type": "code",
      "source": [
        "batch_size = 64\n",
        "epochs = 50\n",
        "\n",
        "train_gen = datagen.flow(x_train, y_train, batch_size=batch_size)\n",
        "test_gen = datagen.flow(x_test, y_test, batch_size=batch_size)"
      ],
      "metadata": {
        "execution": {
          "iopub.status.busy": "2022-03-19T13:42:48.024218Z",
          "iopub.execute_input": "2022-03-19T13:42:48.024795Z",
          "iopub.status.idle": "2022-03-19T13:42:48.062621Z",
          "shell.execute_reply.started": "2022-03-19T13:42:48.024745Z",
          "shell.execute_reply": "2022-03-19T13:42:48.061754Z"
        },
        "trusted": true,
        "id": "ZL7VPUNwjMhN"
      },
      "execution_count": 68,
      "outputs": []
    },
    {
      "cell_type": "code",
      "source": [
        "model_checkpoint_callback = ModelCheckpoint(\n",
        "    filepath=\"best.hdf5\",\n",
        "    monitor='val_accuracy', \n",
        "    verbose=1, \n",
        "    save_best_only=True, \n",
        "    mode='max')\n",
        "\n",
        "\n",
        "history = model.fit(train_gen, \n",
        "                              epochs = epochs,\n",
        "                              verbose = 0,\n",
        "                              steps_per_epoch = x_train.shape[0] // batch_size,\n",
        "                              validation_data = test_gen,\n",
        "                              validation_steps = x_test.shape[0] // batch_size,\n",
        "                              callbacks=[model_checkpoint_callback])"
      ],
      "metadata": {
        "execution": {
          "iopub.status.busy": "2022-03-19T13:42:48.063848Z",
          "iopub.execute_input": "2022-03-19T13:42:48.064618Z",
          "iopub.status.idle": "2022-03-19T14:16:11.123049Z",
          "shell.execute_reply.started": "2022-03-19T13:42:48.064578Z",
          "shell.execute_reply": "2022-03-19T14:16:11.122217Z"
        },
        "trusted": true,
        "colab": {
          "base_uri": "https://localhost:8080/"
        },
        "id": "e3Dr6zbkjMhN",
        "outputId": "37e543b3-e71d-4652-8336-b20fd7e5387e"
      },
      "execution_count": 69,
      "outputs": [
        {
          "output_type": "stream",
          "name": "stdout",
          "text": [
            "\n",
            "Epoch 1: val_accuracy improved from -inf to 0.04898, saving model to best.hdf5\n",
            "\n",
            "Epoch 2: val_accuracy improved from 0.04898 to 0.12500, saving model to best.hdf5\n",
            "\n",
            "Epoch 3: val_accuracy improved from 0.12500 to 0.50361, saving model to best.hdf5\n",
            "\n",
            "Epoch 4: val_accuracy improved from 0.50361 to 0.74279, saving model to best.hdf5\n",
            "\n",
            "Epoch 5: val_accuracy improved from 0.74279 to 0.84495, saving model to best.hdf5\n",
            "\n",
            "Epoch 6: val_accuracy did not improve from 0.84495\n",
            "\n",
            "Epoch 7: val_accuracy improved from 0.84495 to 0.91647, saving model to best.hdf5\n",
            "\n",
            "Epoch 8: val_accuracy did not improve from 0.91647\n",
            "\n",
            "Epoch 9: val_accuracy improved from 0.91647 to 0.92909, saving model to best.hdf5\n",
            "\n",
            "Epoch 10: val_accuracy did not improve from 0.92909\n",
            "\n",
            "Epoch 11: val_accuracy improved from 0.92909 to 0.93419, saving model to best.hdf5\n",
            "\n",
            "Epoch 12: val_accuracy did not improve from 0.93419\n",
            "\n",
            "Epoch 13: val_accuracy did not improve from 0.93419\n",
            "\n",
            "Epoch 14: val_accuracy improved from 0.93419 to 0.94862, saving model to best.hdf5\n",
            "\n",
            "Epoch 15: val_accuracy did not improve from 0.94862\n",
            "\n",
            "Epoch 16: val_accuracy improved from 0.94862 to 0.95162, saving model to best.hdf5\n",
            "\n",
            "Epoch 17: val_accuracy did not improve from 0.95162\n",
            "\n",
            "Epoch 18: val_accuracy did not improve from 0.95162\n",
            "\n",
            "Epoch 19: val_accuracy did not improve from 0.95162\n",
            "\n",
            "Epoch 20: val_accuracy did not improve from 0.95162\n",
            "\n",
            "Epoch 21: val_accuracy did not improve from 0.95162\n",
            "\n",
            "Epoch 22: val_accuracy did not improve from 0.95162\n",
            "\n",
            "Epoch 23: val_accuracy did not improve from 0.95162\n",
            "\n",
            "Epoch 24: val_accuracy did not improve from 0.95162\n",
            "\n",
            "Epoch 25: val_accuracy did not improve from 0.95162\n",
            "\n",
            "Epoch 26: val_accuracy did not improve from 0.95162\n",
            "\n",
            "Epoch 27: val_accuracy did not improve from 0.95162\n",
            "\n",
            "Epoch 28: val_accuracy did not improve from 0.95162\n",
            "\n",
            "Epoch 29: val_accuracy did not improve from 0.95162\n",
            "\n",
            "Epoch 30: val_accuracy did not improve from 0.95162\n",
            "\n",
            "Epoch 31: val_accuracy did not improve from 0.95162\n",
            "\n",
            "Epoch 32: val_accuracy did not improve from 0.95162\n",
            "\n",
            "Epoch 33: val_accuracy did not improve from 0.95162\n",
            "\n",
            "Epoch 34: val_accuracy did not improve from 0.95162\n",
            "\n",
            "Epoch 35: val_accuracy improved from 0.95162 to 0.95252, saving model to best.hdf5\n",
            "\n",
            "Epoch 36: val_accuracy did not improve from 0.95252\n",
            "\n",
            "Epoch 37: val_accuracy improved from 0.95252 to 0.95974, saving model to best.hdf5\n",
            "\n",
            "Epoch 38: val_accuracy did not improve from 0.95974\n",
            "\n",
            "Epoch 39: val_accuracy did not improve from 0.95974\n",
            "\n",
            "Epoch 40: val_accuracy did not improve from 0.95974\n",
            "\n",
            "Epoch 41: val_accuracy improved from 0.95974 to 0.96004, saving model to best.hdf5\n",
            "\n",
            "Epoch 42: val_accuracy did not improve from 0.96004\n",
            "\n",
            "Epoch 43: val_accuracy improved from 0.96004 to 0.96605, saving model to best.hdf5\n",
            "\n",
            "Epoch 44: val_accuracy did not improve from 0.96605\n",
            "\n",
            "Epoch 45: val_accuracy did not improve from 0.96605\n",
            "\n",
            "Epoch 46: val_accuracy did not improve from 0.96605\n",
            "\n",
            "Epoch 47: val_accuracy did not improve from 0.96605\n",
            "\n",
            "Epoch 48: val_accuracy improved from 0.96605 to 0.96785, saving model to best.hdf5\n",
            "\n",
            "Epoch 49: val_accuracy did not improve from 0.96785\n",
            "\n",
            "Epoch 50: val_accuracy did not improve from 0.96785\n"
          ]
        }
      ]
    },
    {
      "cell_type": "code",
      "source": [
        "model.load_weights = ('best.hdf5')\n",
        "print('training accuracy{} '.format(model.evaluate(x_train,y_train)))\n",
        "print('validation accuracy {}'.format(model.evaluate(x_val,y_val)))"
      ],
      "metadata": {
        "execution": {
          "iopub.status.busy": "2022-03-19T14:16:11.124400Z",
          "iopub.execute_input": "2022-03-19T14:16:11.124649Z",
          "iopub.status.idle": "2022-03-19T14:16:23.951109Z",
          "shell.execute_reply.started": "2022-03-19T14:16:11.124619Z",
          "shell.execute_reply": "2022-03-19T14:16:23.950237Z"
        },
        "trusted": true,
        "colab": {
          "base_uri": "https://localhost:8080/"
        },
        "id": "1A-MjiMCjMhN",
        "outputId": "49e8be62-0b53-4eb9-bbc6-b551c2673b54"
      },
      "execution_count": 70,
      "outputs": [
        {
          "output_type": "stream",
          "name": "stdout",
          "text": [
            "336/336 [==============================] - 27s 79ms/step - loss: 0.0496 - accuracy: 0.9861\n",
            "training accuracy[0.04957479238510132, 0.9861408472061157] \n",
            "84/84 [==============================] - 7s 79ms/step - loss: 0.1545 - accuracy: 0.9669\n",
            "validation accuracy [0.15448209643363953, 0.9668898582458496]\n"
          ]
        }
      ]
    },
    {
      "cell_type": "code",
      "source": [
        "y_pred = model.predict(x_val)\n",
        "pred = np.argmax(y_pred, axis=1) + 1 \n",
        "ground = np.argmax(y_val, axis=1) + 1\n",
        "\n",
        "print(classification_report(ground,pred))"
      ],
      "metadata": {
        "execution": {
          "iopub.status.busy": "2022-03-19T14:16:23.952328Z",
          "iopub.execute_input": "2022-03-19T14:16:23.952660Z",
          "iopub.status.idle": "2022-03-19T14:16:26.514208Z",
          "shell.execute_reply.started": "2022-03-19T14:16:23.952626Z",
          "shell.execute_reply": "2022-03-19T14:16:26.513524Z"
        },
        "trusted": true,
        "colab": {
          "base_uri": "https://localhost:8080/"
        },
        "id": "7TkavhZrjMhO",
        "outputId": "7d996be5-bc6d-4a3e-a72d-c7cf9742412f"
      },
      "execution_count": 71,
      "outputs": [
        {
          "output_type": "stream",
          "name": "stdout",
          "text": [
            "              precision    recall  f1-score   support\n",
            "\n",
            "           1       0.99      0.96      0.97        96\n",
            "           2       0.99      1.00      0.99        96\n",
            "           3       0.90      0.98      0.94        96\n",
            "           4       0.99      0.91      0.95        96\n",
            "           5       0.97      0.98      0.97        96\n",
            "           6       0.93      0.98      0.95        96\n",
            "           7       0.99      0.95      0.97        96\n",
            "           8       0.88      0.98      0.93        96\n",
            "           9       0.98      0.85      0.91        96\n",
            "          10       0.90      0.97      0.93        96\n",
            "          11       0.95      0.95      0.95        96\n",
            "          12       0.99      1.00      0.99        96\n",
            "          13       1.00      0.99      0.99        96\n",
            "          14       1.00      0.98      0.99        96\n",
            "          15       0.99      1.00      0.99        96\n",
            "          16       0.96      0.98      0.97        96\n",
            "          17       0.99      0.96      0.97        96\n",
            "          18       0.95      0.97      0.96        96\n",
            "          19       0.99      0.94      0.96        96\n",
            "          20       0.96      0.98      0.97        96\n",
            "          21       0.98      0.96      0.97        96\n",
            "          22       0.99      0.94      0.96        96\n",
            "          23       0.98      0.99      0.98        96\n",
            "          24       1.00      0.98      0.99        96\n",
            "          25       0.94      0.96      0.95        96\n",
            "          26       0.96      0.98      0.97        96\n",
            "          27       0.98      0.99      0.98        96\n",
            "          28       1.00      0.99      0.99        96\n",
            "\n",
            "    accuracy                           0.97      2688\n",
            "   macro avg       0.97      0.97      0.97      2688\n",
            "weighted avg       0.97      0.97      0.97      2688\n",
            "\n"
          ]
        }
      ]
    },
    {
      "cell_type": "code",
      "source": [
        "print('validation accuracy {}'.format(model.evaluate(x_test,y_test)))"
      ],
      "metadata": {
        "execution": {
          "iopub.status.busy": "2022-03-19T14:16:26.515491Z",
          "iopub.execute_input": "2022-03-19T14:16:26.515877Z",
          "iopub.status.idle": "2022-03-19T14:16:30.462186Z",
          "shell.execute_reply.started": "2022-03-19T14:16:26.515845Z",
          "shell.execute_reply": "2022-03-19T14:16:30.461450Z"
        },
        "trusted": true,
        "colab": {
          "base_uri": "https://localhost:8080/"
        },
        "id": "5g7yWWdtjMhO",
        "outputId": "8300de60-6837-464b-f024-75fcbd41de97"
      },
      "execution_count": 72,
      "outputs": [
        {
          "output_type": "stream",
          "name": "stdout",
          "text": [
            "105/105 [==============================] - 8s 80ms/step - loss: 0.1627 - accuracy: 0.9670\n",
            "validation accuracy [0.16266126930713654, 0.9669544696807861]\n"
          ]
        }
      ]
    },
    {
      "cell_type": "code",
      "source": [
        "y_pred = model.predict(x_test)\n",
        "pred = np.argmax(y_pred, axis=1) + 1 \n",
        "ground = np.argmax(y_test, axis=1) + 1\n",
        "\n",
        "print(classification_report(ground,pred))"
      ],
      "metadata": {
        "execution": {
          "iopub.status.busy": "2022-03-19T14:16:30.465628Z",
          "iopub.execute_input": "2022-03-19T14:16:30.465858Z",
          "iopub.status.idle": "2022-03-19T14:16:33.625800Z",
          "shell.execute_reply.started": "2022-03-19T14:16:30.465831Z",
          "shell.execute_reply": "2022-03-19T14:16:33.624912Z"
        },
        "trusted": true,
        "colab": {
          "base_uri": "https://localhost:8080/"
        },
        "id": "FN5iF5pzjMhO",
        "outputId": "9eb6efb7-b216-44aa-8d1b-0160434a42e4"
      },
      "execution_count": 73,
      "outputs": [
        {
          "output_type": "stream",
          "name": "stdout",
          "text": [
            "              precision    recall  f1-score   support\n",
            "\n",
            "           1       1.00      0.94      0.97       119\n",
            "           2       0.96      1.00      0.98       120\n",
            "           3       0.93      0.95      0.94       120\n",
            "           4       0.99      0.95      0.97       120\n",
            "           5       0.98      0.97      0.98       120\n",
            "           6       0.91      0.99      0.95       120\n",
            "           7       0.97      0.95      0.96       120\n",
            "           8       0.91      0.97      0.94       120\n",
            "           9       0.98      0.88      0.93       120\n",
            "          10       0.87      0.98      0.93       120\n",
            "          11       0.96      0.92      0.94       120\n",
            "          12       0.98      0.99      0.99       120\n",
            "          13       0.99      0.99      0.99       120\n",
            "          14       0.96      0.98      0.97       120\n",
            "          15       1.00      0.96      0.98       120\n",
            "          16       0.95      0.99      0.97       120\n",
            "          17       0.98      0.95      0.97       120\n",
            "          18       0.98      0.98      0.98       120\n",
            "          19       1.00      0.97      0.99       120\n",
            "          20       0.94      1.00      0.97       120\n",
            "          21       1.00      0.93      0.96       120\n",
            "          22       0.99      0.97      0.98       120\n",
            "          23       1.00      1.00      1.00       120\n",
            "          24       0.99      0.98      0.99       120\n",
            "          25       0.97      0.96      0.97       120\n",
            "          26       0.97      0.99      0.98       120\n",
            "          27       0.94      0.97      0.95       120\n",
            "          28       1.00      0.94      0.97       120\n",
            "\n",
            "    accuracy                           0.97      3359\n",
            "   macro avg       0.97      0.97      0.97      3359\n",
            "weighted avg       0.97      0.97      0.97      3359\n",
            "\n"
          ]
        }
      ]
    }
  ]
}